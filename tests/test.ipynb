{
 "cells": [
  {
   "cell_type": "code",
   "execution_count": 7,
   "metadata": {},
   "outputs": [],
   "source": [
    "import re\n",
    "class form_reads_get_modifications:\n",
    "    \"\"\"\n",
    "    from reads get modifications\n",
    "    Args:\n",
    "        inputFq: input fq file\n",
    "        samFile: sam file or bam file\n",
    "        bedFile: single base annotaiton bed file\n",
    "        output: output file\n",
    "        pvalue: pvalue cutoff for modification\n",
    "    \"\"\"\n",
    "    \n",
    "    MOD_MAP = {\n",
    "        'A+a': re.compile(r'A'),\n",
    "        'A+17596': re.compile(r'A'),\n",
    "        'T+17802': re.compile(r'T'),\n",
    "        'C+m': re.compile(r'C')\n",
    "    }\n",
    "    \n",
    "    BASE_MAP = {\n",
    "        \"A\": [\"A\", \"T\"],\n",
    "        \"T\": [\"T\", \"A\"],\n",
    "        \"C\": [\"C\", \"G\"]\n",
    "    }\n",
    "\n",
    "    def __init__(self):\n",
    "        pass\n",
    "        \n",
    "    def get_modifications(self):\n",
    "        mod = self.MOD_MAP.keys()\n",
    "        for i in mod:\n",
    "            rbase = i[0]\n",
    "            print(i, rbase)\n",
    "\n",
    "    "
   ]
  },
  {
   "cell_type": "code",
   "execution_count": 8,
   "metadata": {},
   "outputs": [
    {
     "name": "stdout",
     "output_type": "stream",
     "text": [
      "A+a A\n",
      "A+17596 A\n",
      "T+17802 T\n",
      "C+m C\n"
     ]
    }
   ],
   "source": [
    "mod_=form_reads_get_modifications()\n",
    "mod_.get_modifications()"
   ]
  }
 ],
 "metadata": {
  "kernelspec": {
   "display_name": "nanomd-SdeMTDn8-py3.12",
   "language": "python",
   "name": "python3"
  },
  "language_info": {
   "codemirror_mode": {
    "name": "ipython",
    "version": 3
   },
   "file_extension": ".py",
   "mimetype": "text/x-python",
   "name": "python",
   "nbconvert_exporter": "python",
   "pygments_lexer": "ipython3",
   "version": "3.12.8"
  }
 },
 "nbformat": 4,
 "nbformat_minor": 2
}
